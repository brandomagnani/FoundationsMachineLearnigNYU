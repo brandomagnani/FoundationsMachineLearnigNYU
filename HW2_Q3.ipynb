{
 "cells": [
  {
   "cell_type": "markdown",
   "id": "a55b21aa",
   "metadata": {},
   "source": [
    "## Brando Magnani, N16654444\n",
    "\n",
    "## HW2 Problem 3\n",
    "\n",
    "## (subparts 1,2,3,4,5,6.c)"
   ]
  },
  {
   "cell_type": "code",
   "execution_count": 168,
   "id": "d54bc57f",
   "metadata": {},
   "outputs": [],
   "source": [
    "%matplotlib inline\n",
    "\n",
    "# numbers\n",
    "import numpy as np\n",
    "import pandas as pd\n",
    "\n",
    "# stats\n",
    "#import statsmodels.api as sm\n",
    "import scipy.stats as stats\n",
    "\n",
    "# plots\n",
    "import matplotlib.pyplot as plt\n",
    "#import seaborn as sns\n",
    "\n",
    "# utils\n",
    "import os, re\n",
    "\n",
    "from libsvm.svmutil import *"
   ]
  },
  {
   "cell_type": "code",
   "execution_count": 2,
   "id": "57e638a0",
   "metadata": {},
   "outputs": [
    {
     "name": "stdout",
     "output_type": "stream",
     "text": [
      "Number of samples: 4177\n"
     ]
    },
    {
     "data": {
      "text/html": [
       "<div>\n",
       "<style scoped>\n",
       "    .dataframe tbody tr th:only-of-type {\n",
       "        vertical-align: middle;\n",
       "    }\n",
       "\n",
       "    .dataframe tbody tr th {\n",
       "        vertical-align: top;\n",
       "    }\n",
       "\n",
       "    .dataframe thead th {\n",
       "        text-align: right;\n",
       "    }\n",
       "</style>\n",
       "<table border=\"1\" class=\"dataframe\">\n",
       "  <thead>\n",
       "    <tr style=\"text-align: right;\">\n",
       "      <th></th>\n",
       "      <th>sex</th>\n",
       "      <th>length</th>\n",
       "      <th>diameter</th>\n",
       "      <th>height</th>\n",
       "      <th>whole weight</th>\n",
       "      <th>shucked weight</th>\n",
       "      <th>viscera weight</th>\n",
       "      <th>shell weight</th>\n",
       "      <th>rings</th>\n",
       "    </tr>\n",
       "  </thead>\n",
       "  <tbody>\n",
       "    <tr>\n",
       "      <th>0</th>\n",
       "      <td>M</td>\n",
       "      <td>0.455</td>\n",
       "      <td>0.365</td>\n",
       "      <td>0.095</td>\n",
       "      <td>0.5140</td>\n",
       "      <td>0.2245</td>\n",
       "      <td>0.1010</td>\n",
       "      <td>0.150</td>\n",
       "      <td>15</td>\n",
       "    </tr>\n",
       "    <tr>\n",
       "      <th>1</th>\n",
       "      <td>M</td>\n",
       "      <td>0.350</td>\n",
       "      <td>0.265</td>\n",
       "      <td>0.090</td>\n",
       "      <td>0.2255</td>\n",
       "      <td>0.0995</td>\n",
       "      <td>0.0485</td>\n",
       "      <td>0.070</td>\n",
       "      <td>7</td>\n",
       "    </tr>\n",
       "    <tr>\n",
       "      <th>2</th>\n",
       "      <td>F</td>\n",
       "      <td>0.530</td>\n",
       "      <td>0.420</td>\n",
       "      <td>0.135</td>\n",
       "      <td>0.6770</td>\n",
       "      <td>0.2565</td>\n",
       "      <td>0.1415</td>\n",
       "      <td>0.210</td>\n",
       "      <td>9</td>\n",
       "    </tr>\n",
       "    <tr>\n",
       "      <th>3</th>\n",
       "      <td>M</td>\n",
       "      <td>0.440</td>\n",
       "      <td>0.365</td>\n",
       "      <td>0.125</td>\n",
       "      <td>0.5160</td>\n",
       "      <td>0.2155</td>\n",
       "      <td>0.1140</td>\n",
       "      <td>0.155</td>\n",
       "      <td>10</td>\n",
       "    </tr>\n",
       "    <tr>\n",
       "      <th>4</th>\n",
       "      <td>I</td>\n",
       "      <td>0.330</td>\n",
       "      <td>0.255</td>\n",
       "      <td>0.080</td>\n",
       "      <td>0.2050</td>\n",
       "      <td>0.0895</td>\n",
       "      <td>0.0395</td>\n",
       "      <td>0.055</td>\n",
       "      <td>7</td>\n",
       "    </tr>\n",
       "  </tbody>\n",
       "</table>\n",
       "</div>"
      ],
      "text/plain": [
       "  sex  length  diameter  height  whole weight  shucked weight  viscera weight  \\\n",
       "0   M   0.455     0.365   0.095        0.5140          0.2245          0.1010   \n",
       "1   M   0.350     0.265   0.090        0.2255          0.0995          0.0485   \n",
       "2   F   0.530     0.420   0.135        0.6770          0.2565          0.1415   \n",
       "3   M   0.440     0.365   0.125        0.5160          0.2155          0.1140   \n",
       "4   I   0.330     0.255   0.080        0.2050          0.0895          0.0395   \n",
       "\n",
       "   shell weight  rings  \n",
       "0         0.150     15  \n",
       "1         0.070      7  \n",
       "2         0.210      9  \n",
       "3         0.155     10  \n",
       "4         0.055      7  "
      ]
     },
     "execution_count": 2,
     "metadata": {},
     "output_type": "execute_result"
    }
   ],
   "source": [
    "column_names = [\"sex\", \"length\", \"diameter\", \"height\", \"whole weight\",\n",
    "                \"shucked weight\", \"viscera weight\", \"shell weight\", \"rings\"]\n",
    "\n",
    "xlab = column_names[0:len(column_names)-1]\n",
    "ylab = column_names[len(column_names)-1]\n",
    "data = pd.read_csv(\"abalone.data\", names=column_names)\n",
    "print(\"Number of samples: %d\" % len(data))\n",
    "data.head()"
   ]
  },
  {
   "cell_type": "code",
   "execution_count": 3,
   "id": "624c3b67",
   "metadata": {},
   "outputs": [
    {
     "data": {
      "text/html": [
       "<div>\n",
       "<style scoped>\n",
       "    .dataframe tbody tr th:only-of-type {\n",
       "        vertical-align: middle;\n",
       "    }\n",
       "\n",
       "    .dataframe tbody tr th {\n",
       "        vertical-align: top;\n",
       "    }\n",
       "\n",
       "    .dataframe thead th {\n",
       "        text-align: right;\n",
       "    }\n",
       "</style>\n",
       "<table border=\"1\" class=\"dataframe\">\n",
       "  <thead>\n",
       "    <tr style=\"text-align: right;\">\n",
       "      <th></th>\n",
       "      <th>sex</th>\n",
       "      <th>length</th>\n",
       "      <th>diameter</th>\n",
       "      <th>height</th>\n",
       "      <th>whole weight</th>\n",
       "      <th>shucked weight</th>\n",
       "      <th>viscera weight</th>\n",
       "      <th>shell weight</th>\n",
       "      <th>rings</th>\n",
       "    </tr>\n",
       "  </thead>\n",
       "  <tbody>\n",
       "    <tr>\n",
       "      <th>0</th>\n",
       "      <td>0</td>\n",
       "      <td>0.455</td>\n",
       "      <td>0.365</td>\n",
       "      <td>0.095</td>\n",
       "      <td>0.5140</td>\n",
       "      <td>0.2245</td>\n",
       "      <td>0.1010</td>\n",
       "      <td>0.150</td>\n",
       "      <td>-1</td>\n",
       "    </tr>\n",
       "    <tr>\n",
       "      <th>1</th>\n",
       "      <td>0</td>\n",
       "      <td>0.350</td>\n",
       "      <td>0.265</td>\n",
       "      <td>0.090</td>\n",
       "      <td>0.2255</td>\n",
       "      <td>0.0995</td>\n",
       "      <td>0.0485</td>\n",
       "      <td>0.070</td>\n",
       "      <td>1</td>\n",
       "    </tr>\n",
       "    <tr>\n",
       "      <th>2</th>\n",
       "      <td>1</td>\n",
       "      <td>0.530</td>\n",
       "      <td>0.420</td>\n",
       "      <td>0.135</td>\n",
       "      <td>0.6770</td>\n",
       "      <td>0.2565</td>\n",
       "      <td>0.1415</td>\n",
       "      <td>0.210</td>\n",
       "      <td>1</td>\n",
       "    </tr>\n",
       "    <tr>\n",
       "      <th>3</th>\n",
       "      <td>0</td>\n",
       "      <td>0.440</td>\n",
       "      <td>0.365</td>\n",
       "      <td>0.125</td>\n",
       "      <td>0.5160</td>\n",
       "      <td>0.2155</td>\n",
       "      <td>0.1140</td>\n",
       "      <td>0.155</td>\n",
       "      <td>-1</td>\n",
       "    </tr>\n",
       "    <tr>\n",
       "      <th>4</th>\n",
       "      <td>2</td>\n",
       "      <td>0.330</td>\n",
       "      <td>0.255</td>\n",
       "      <td>0.080</td>\n",
       "      <td>0.2050</td>\n",
       "      <td>0.0895</td>\n",
       "      <td>0.0395</td>\n",
       "      <td>0.055</td>\n",
       "      <td>1</td>\n",
       "    </tr>\n",
       "  </tbody>\n",
       "</table>\n",
       "</div>"
      ],
      "text/plain": [
       "   sex  length  diameter  height  whole weight  shucked weight  \\\n",
       "0    0   0.455     0.365   0.095        0.5140          0.2245   \n",
       "1    0   0.350     0.265   0.090        0.2255          0.0995   \n",
       "2    1   0.530     0.420   0.135        0.6770          0.2565   \n",
       "3    0   0.440     0.365   0.125        0.5160          0.2155   \n",
       "4    2   0.330     0.255   0.080        0.2050          0.0895   \n",
       "\n",
       "   viscera weight  shell weight  rings  \n",
       "0          0.1010         0.150     -1  \n",
       "1          0.0485         0.070      1  \n",
       "2          0.1415         0.210      1  \n",
       "3          0.1140         0.155     -1  \n",
       "4          0.0395         0.055      1  "
      ]
     },
     "execution_count": 3,
     "metadata": {},
     "output_type": "execute_result"
    }
   ],
   "source": [
    "# Give a numerical label to \"sex\" feature: M -> 0, F -> 1, I -> 2\n",
    "# Assign 1 to rings <= 9, 0 else\n",
    "r1 = np.arange(0,10,1)\n",
    "r2 = np.arange(10,data[\"rings\"].max(), 1)\n",
    "\n",
    "data[\"sex\"].replace(\"M\", 0, inplace=True)\n",
    "data[\"sex\"].replace(\"F\", 1, inplace=True)\n",
    "data[\"sex\"].replace(\"I\", 2, inplace=True)\n",
    "data[\"rings\"].replace(r1,  1, inplace=True)\n",
    "data[\"rings\"].replace(r2,  -1, inplace=True)\n",
    "data.head()"
   ]
  },
  {
   "cell_type": "markdown",
   "id": "bfc6acbb",
   "metadata": {},
   "source": [
    "## Part 2."
   ]
  },
  {
   "cell_type": "code",
   "execution_count": 4,
   "id": "afe41799",
   "metadata": {},
   "outputs": [],
   "source": [
    "from sklearn import preprocessing\n",
    "from sklearn.svm import SVR\n",
    "from sklearn.model_selection import KFold"
   ]
  },
  {
   "cell_type": "code",
   "execution_count": 5,
   "id": "3c27e499",
   "metadata": {},
   "outputs": [],
   "source": [
    "ntrain = 3133\n",
    "data_train = data.iloc[0:ntrain,:]  # testing data\n",
    "data_test  = data.iloc[ntrain:,:]   # training data\n",
    "\n",
    "Xtrain = data_train[xlab]\n",
    "Ytrain = data_train[ylab]\n",
    "\n",
    "Xtest = data_test[xlab]\n",
    "Ytest = data_test[ylab]"
   ]
  },
  {
   "cell_type": "code",
   "execution_count": 6,
   "id": "9c27560f",
   "metadata": {},
   "outputs": [],
   "source": [
    "# Scaling\n",
    "scaler = preprocessing.StandardScaler().fit(Xtrain)\n",
    "Xtrain = scaler.transform(Xtrain)\n",
    "Xtest = scaler.transform(Xtest)"
   ]
  },
  {
   "cell_type": "markdown",
   "id": "20aff97f",
   "metadata": {},
   "source": [
    "## Part 3"
   ]
  },
  {
   "cell_type": "code",
   "execution_count": 7,
   "id": "9d557690",
   "metadata": {},
   "outputs": [],
   "source": [
    "# Support Vector Classification, based on libsvm\n",
    "\n",
    "dlist = [1,2,3,4,5]   # list of degrees\n",
    "k = 3\n",
    "Clist     = np.linspace(3.0**(-k), 3**k, 5)\n",
    "n_splits = 5   # number of cross validation splits\n",
    "\n",
    "kf = KFold(n_splits=n_splits, shuffle=True, random_state=17)\n",
    "\n",
    "error_dC = np.zeros((len(dlist),len(Clist)))   # contains average validation errors as fn of d, C\n",
    "\n",
    "CV_errorList = []  # given d, C, contains list of errors in 5-fold cross validation"
   ]
  },
  {
   "cell_type": "code",
   "execution_count": 8,
   "id": "a7753589",
   "metadata": {},
   "outputs": [],
   "source": [
    "# for each degree d, for each constant C, do 5-fold cross validation and compute error\n",
    "for i,d in enumerate(dlist):\n",
    "    for j,C in enumerate(Clist):\n",
    "        for train_index, test_index in kf.split(Xtrain):\n",
    "            svc_pol  = SVR(kernel='poly', degree=d, C=C)\n",
    "            svc_pol  = svc_pol.fit( Xtrain[train_index], Ytrain[train_index] )\n",
    "            \n",
    "            yhat_pol = np.sign(svc_pol.predict(Xtrain[test_index]))\n",
    "            svc_pol_resid = yhat_pol - Ytrain[test_index].values\n",
    "            error = np.sum(np.abs(svc_pol_resid/2.))/float(len(yhat_pol))\n",
    "    \n",
    "            CV_errorList.append(error)\n",
    "        error_dC[i,j] = np.average(CV_errorList)\n",
    "        CV_errorList = []\n",
    "        #print(i,j)"
   ]
  },
  {
   "cell_type": "code",
   "execution_count": 59,
   "id": "bacadc27",
   "metadata": {},
   "outputs": [
    {
     "data": {
      "image/png": "[encoded data removed]",
      "text/plain": [
       "<Figure size 864x576 with 1 Axes>"
      ]
     },
     "metadata": {
      "needs_background": "light"
     },
     "output_type": "display_data"
    }
   ],
   "source": [
    "# Plot Average Cross-Val. Error vs C\n",
    "\n",
    "plt.figure(figsize=(12, 8))\n",
    "plt.scatter(Clist, error_dC[0, :], label='d=1')\n",
    "plt.plot(Clist, error_dC[0, :])\n",
    "plt.scatter(Clist, error_dC[1, :], label='d=2')\n",
    "plt.plot(Clist, error_dC[1, :])\n",
    "plt.scatter(Clist, error_dC[2, :], label='d=3')\n",
    "plt.plot(Clist, error_dC[2, :])\n",
    "plt.scatter(Clist, error_dC[3, :], label='d=4')\n",
    "plt.plot(Clist, error_dC[3, :])\n",
    "plt.scatter(Clist, error_dC[4, :], label='d=5')\n",
    "plt.plot(Clist, error_dC[4, :])\n",
    "plt.xlabel(\"C\", size=30)\n",
    "plt.ylabel(\"Average Cross-Val. Error\", size=30)\n",
    "plt.legend()\n",
    "plt.ylim(.22,0.43)\n",
    "plt.show()"
   ]
  },
  {
   "cell_type": "markdown",
   "id": "1efaf67c",
   "metadata": {},
   "source": [
    "## Part 4."
   ]
  },
  {
   "cell_type": "code",
   "execution_count": 57,
   "id": "2f8b2d2b",
   "metadata": {},
   "outputs": [],
   "source": [
    "d_star = 1\n",
    "C_star = Clist[np.argmin(error_dC[0, :])]\n",
    "\n",
    "error_d = np.zeros(len(dlist))   # contains average validation errors as fn of d, given C^*\n",
    "\n",
    "supp_vec_d = np.zeros(len(dlist))   # contains average number of support vectors (alpha_i != 0)\n",
    "\n",
    "mh_vec_d  = np.zeros(len(dlist))    # average number of vectors on marginal hyperplanes (alpha_i != C_star)\n",
    "\n",
    "CV_errorList = []  # given d, contains list of errors in 5-fold cross validation\n",
    "\n",
    "CV_supp_vecList = []  # given d,  contains list of number of support vectors in 5-fold cross validation\n",
    "\n",
    "CV_mh_vecList = []"
   ]
  },
  {
   "cell_type": "code",
   "execution_count": 58,
   "id": "ce07bac6",
   "metadata": {},
   "outputs": [],
   "source": [
    "# for each degree d, given C^*, do 5-fold cross validation and compute error\n",
    "for i,d in enumerate(dlist):\n",
    "    for train_index, test_index in kf.split(Xtrain):\n",
    "        svc_pol  = SVR(kernel='poly', degree=d, C=C_star)\n",
    "        svc_pol  = svc_pol.fit( Xtrain[train_index], Ytrain[train_index] )\n",
    "        dual_coeff  = (svc_pol.dual_coef_)[0,:].tolist()\n",
    "        n_sv = len(dual_coeff)    # number of support vectors (alpha_i != 0)\n",
    "        CV_supp_vecList.append(n_sv)     \n",
    "        n_marg = n_sv - dual_coeff.count(C_star)   # number of vectors on marginal hyperplanes (alpha_i != C_star)\n",
    "        CV_mh_vecList.append(n_marg)\n",
    "        yhat_pol = np.sign(svc_pol.predict(Xtrain[test_index]))\n",
    "        svc_pol_resid = yhat_pol - Ytrain[test_index].values\n",
    "        error = np.sum(np.abs(svc_pol_resid/2.))/float(len(yhat_pol))           \n",
    "        CV_errorList.append(error)\n",
    "    error_d[i]    = np.average(CV_errorList)\n",
    "    supp_vec_d[i] = np.average(CV_supp_vecList)\n",
    "    mh_vec_d[i]   = np.average(CV_mh_vecList)\n",
    "    CV_errorList    = []\n",
    "    CV_supp_vecList = []\n",
    "    CV_mh_vecList = []"
   ]
  },
  {
   "cell_type": "code",
   "execution_count": 37,
   "id": "0ee49991",
   "metadata": {},
   "outputs": [],
   "source": [
    "svc_pol  = SVR(kernel='poly', degree=d_star, C=C_star)\n",
    "svc_pol  = svc_pol.fit( Xtrain[train_index], Ytrain[train_index] ).dual_coef_"
   ]
  },
  {
   "cell_type": "code",
   "execution_count": 56,
   "id": "8f76588f",
   "metadata": {},
   "outputs": [
    {
     "data": {
      "text/plain": [
       "2173"
      ]
     },
     "execution_count": 56,
     "metadata": {},
     "output_type": "execute_result"
    }
   ],
   "source": [
    "len((svc_pol[0,:].tolist()))"
   ]
  },
  {
   "cell_type": "code",
   "execution_count": 92,
   "id": "550005ac",
   "metadata": {},
   "outputs": [
    {
     "data": {
      "image/png": "[encoded data removed]",
      "text/plain": [
       "<Figure size 864x576 with 1 Axes>"
      ]
     },
     "metadata": {
      "needs_background": "light"
     },
     "output_type": "display_data"
    }
   ],
   "source": [
    "plt.figure(figsize=(12, 8))\n",
    "plt.scatter(dlist, supp_vec_d, s=90, color='r')\n",
    "plt.plot(dlist, supp_vec_d, color='r')\n",
    "plt.xlabel(\"d\", size=25)\n",
    "plt.ylabel(\"Number of Support Vectors\", size=20)\n",
    "plt.title(\"5-fold CV train sample size = 2507\", size=20)\n",
    "plt.show()"
   ]
  },
  {
   "cell_type": "code",
   "execution_count": 94,
   "id": "f05afc00",
   "metadata": {},
   "outputs": [
    {
     "data": {
      "image/png": "[encoded data removed]",
      "text/plain": [
       "<Figure size 864x576 with 1 Axes>"
      ]
     },
     "metadata": {
      "needs_background": "light"
     },
     "output_type": "display_data"
    }
   ],
   "source": [
    "plt.figure(figsize=(12, 8))\n",
    "plt.scatter(dlist, mh_vec_d, s=90, color='g')\n",
    "plt.plot(dlist, mh_vec_d, color='g')\n",
    "plt.xlabel(\"d\", size=25)\n",
    "plt.ylabel(\"Number of vectors on Marginal Hyp.\", size=20)\n",
    "plt.title(\"5-fold CV train sample size = 2507\", size=20)\n",
    "plt.show()"
   ]
  },
  {
   "cell_type": "markdown",
   "id": "84cfd515",
   "metadata": {},
   "source": [
    "## Part 5"
   ]
  },
  {
   "cell_type": "code",
   "execution_count": 111,
   "id": "4206e3bf",
   "metadata": {},
   "outputs": [],
   "source": [
    "svc_pol  = SVR(kernel='poly', degree=d_star, C=C_star)\n",
    "svc_pol  = svc_pol.fit( Xtrain, Ytrain )\n",
    "\n",
    "# training error\n",
    "yhat_pol_train = np.sign(svc_pol.predict(Xtrain))\n",
    "svc_pol_resid_train = yhat_pol_train - Ytrain.values\n",
    "train_error = np.sum(np.abs(svc_pol_resid_train/2.))/float(len(yhat_pol_train))  \n",
    "\n",
    "# test error\n",
    "yhat_pol_test = np.sign(svc_pol.predict(Xtest))\n",
    "svc_pol_resid_test = yhat_pol_test - Ytest.values\n",
    "test_error = np.sum(np.abs(svc_pol_resid_test/2.))/float(len(yhat_pol_test))  "
   ]
  },
  {
   "cell_type": "code",
   "execution_count": 170,
   "id": "65d828ad",
   "metadata": {},
   "outputs": [
    {
     "name": "stdout",
     "output_type": "stream",
     "text": [
      "d_star =  1\n",
      "C_star =  6.777777777777778\n"
     ]
    }
   ],
   "source": [
    "print(\"d_star = \", d_star)\n",
    "print(\"C_star = \", C_star)"
   ]
  },
  {
   "cell_type": "code",
   "execution_count": 114,
   "id": "f12aa8b7",
   "metadata": {},
   "outputs": [
    {
     "name": "stdout",
     "output_type": "stream",
     "text": [
      "Train Error =  0.22981168209383976\n",
      "Test Error =  0.25383141762452105\n"
     ]
    }
   ],
   "source": [
    "print(\"Train Error = \", train_error)\n",
    "print(\"Test Error = \", test_error)"
   ]
  },
  {
   "cell_type": "markdown",
   "id": "b18a0755",
   "metadata": {},
   "source": [
    "## Part 6.c"
   ]
  },
  {
   "cell_type": "code",
   "execution_count": 164,
   "id": "4d8f7d42",
   "metadata": {},
   "outputs": [],
   "source": [
    "# kernel function of degree d\n",
    "def K(x,y,d):\n",
    "    c = 1.0\n",
    "    return (np.dot(x,y) + c)**d\n",
    "\n",
    "\n",
    "# returns vector x'_i = ( y_1 K(x_i, x_1), ..., y_1 K(x_i, x_1) ), as defined in my homework solutions\n",
    "def xp(i, X, Y, d):\n",
    "    m = X.shape[0]\n",
    "    xpi = np.zeros(m)\n",
    "    for j in range(0,m):\n",
    "        xpi[j] = Y[j]*K(X[i,:], X[j,:], d)\n",
    "    return xpi\n",
    "\n",
    "\n",
    "# returns matrix whose i-th row is x'_i\n",
    "def Xp_matrix(X, Y, d):\n",
    "    m = X.shape[0]\n",
    "    Xp = np.zeros((m,m))\n",
    "    for i in range(0,m):\n",
    "        for j in range(0,m):\n",
    "            Xp[i,j] = Y[j]*K(X[i,:], X[j,:], d)\n",
    "    return Xp\n",
    "\n",
    "\n",
    "# returns the target function which we want to minimize over alpha, b\n",
    "def F(alpha, b, X, Y, d):\n",
    "    m = X.shape[0]\n",
    "    sum = 0.0\n",
    "    for i in range(0,m):\n",
    "        xpi = xp(i, X, Y, d)\n",
    "        term = 1.0 - Y[i]*( np.dot(alpha,xpi) + b )\n",
    "        if term > 0:\n",
    "            sum = sum + term\n",
    "    return 0.5*np.sum(alpha) + C_star*sum\n",
    "\n",
    "# returns the target function which we want to minimize over alpha, b\n",
    "def T(alpha, b, X, Xp, Y, d):\n",
    "    m = X.shape[0]\n",
    "    sum = 0.0\n",
    "    Xpa = np.dot(Xp,alpha)\n",
    "    for i in range(0,m):\n",
    "        term = 1.0 - Y[i]*( Xpa[i] + b )\n",
    "        if term > 0:\n",
    "            sum = sum + term\n",
    "    return 0.5*np.sum(alpha) + C_star*sum"
   ]
  }
 ],
 "metadata": {
  "kernelspec": {
   "display_name": "Python 3 (ipykernel)",
   "language": "python",
   "name": "python3"
  },
  "language_info": {
   "codemirror_mode": {
    "name": "ipython",
    "version": 3
   },
   "file_extension": ".py",
   "mimetype": "text/x-python",
   "name": "python",
   "nbconvert_exporter": "python",
   "pygments_lexer": "ipython3",
   "version": "3.9.10"
  }
 },
 "nbformat": 4,
 "nbformat_minor": 5
}
